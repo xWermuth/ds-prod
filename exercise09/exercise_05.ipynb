{
 "cells": [
  {
   "cell_type": "code",
   "execution_count": 2,
   "metadata": {},
   "outputs": [],
   "source": [
    "#from scipy.stats import ttest_ind\n",
    "from statsmodels.stats.weightstats import ttest_ind\n",
    "from statsmodels.stats.power import TTestIndPower\n",
    "import numpy as np\n",
    "from numpy.random import normal\n",
    "import numpy.random\n",
    "import scipy.stats as st\n",
    "\n",
    "def winsorize(l, minv, maxv):\n",
    "    return [min(maxv, max(minv, round(r,2))) for r in l]"
   ]
  },
  {
   "cell_type": "markdown",
   "metadata": {},
   "source": [
    "### Quantifying historical revenue and state expectations"
   ]
  },
  {
   "cell_type": "code",
   "execution_count": 3,
   "metadata": {},
   "outputs": [
    {
     "name": "stdout",
     "output_type": "stream",
     "text": [
      "Our historical records show that shopping sessions in our online website are worth ~15$ on average, with a standard deviation of ~4$\n"
     ]
    }
   ],
   "source": [
    "numpy.random.seed(42)\n",
    "revenue_min = 5\n",
    "revenue_mean = 15\n",
    "revenue_std = 5\n",
    "revenue_max = 50\n",
    "samples = 10000\n",
    "historical_revenue = winsorize(normal(loc=revenue_mean, scale=revenue_std, size=samples), \n",
    "                               revenue_min, revenue_max)\n",
    "historical_stdev = np.std(historical_revenue)\n",
    "estimated_mean = np.mean(historical_revenue)\n",
    "print(f'Our historical records show that shopping sessions in our online \\\n",
    "website are worth ~{int(estimated_mean)}$ on average, with a standard deviation of ~{int(historical_stdev)}$')"
   ]
  },
  {
   "cell_type": "markdown",
   "metadata": {},
   "source": [
    "By implementing a new recommender system, we expect a lift of 2$ per session"
   ]
  },
  {
   "cell_type": "code",
   "execution_count": null,
   "metadata": {},
   "outputs": [],
   "source": [
    "expected_lift = ...\n",
    "effect_size = ...\n",
    "effect_size"
   ]
  },
  {
   "cell_type": "markdown",
   "metadata": {},
   "source": [
    "Let's calculate how large our A/B testing sould be to get a confident estimate of whether a 1$ lift can be reached. We would like a probability of true positives of at least 0.8 and a probability of false positives of at most 0.01. We can afford to test the recommender system on 5 percent of the user base, maximum"
   ]
  },
  {
   "cell_type": "code",
   "execution_count": null,
   "metadata": {},
   "outputs": [],
   "source": [
    "# run a power analyisis to find the size of groups represented by the varibles below, \n",
    "# while taking into account the requirements of the above cell\n",
    "\n",
    "sample_size_control = ...\n",
    "sample_size_treatment = ...\n",
    "sample_size_total = ...\n",
    "print(f'We must run an A/B test with at least {sample_size_total} users, \\\n",
    "{sample_size_control} in control and {sample_size_treatment} in treatment')"
   ]
  },
  {
   "cell_type": "markdown",
   "metadata": {},
   "source": [
    "### Run the A/B test"
   ]
  },
  {
   "cell_type": "code",
   "execution_count": null,
   "metadata": {},
   "outputs": [],
   "source": [
    "# here we just simulate the obtained results\n",
    "numpy.random.seed(420)\n",
    "control_revenue = winsorize(normal(loc=revenue_mean, scale=revenue_std, size=sample_size_control), \n",
    "                               revenue_min, revenue_max)\n",
    "\n",
    "numpy.random.seed(421)\n",
    "revenue_mean_treatment = 15.3 # let's assume that this is the true mean of revenue after intervention\n",
    "treatment_revenue = winsorize(normal(loc=revenue_mean_treatment, scale=revenue_std, size=sample_size_treatment), \n",
    "                               revenue_min, revenue_max)"
   ]
  },
  {
   "cell_type": "markdown",
   "metadata": {},
   "source": [
    "### Check statistical significance"
   ]
  },
  {
   "cell_type": "code",
   "execution_count": null,
   "metadata": {},
   "outputs": [],
   "source": [
    "# check here if the difference between treatment and control is statistically significant"
   ]
  },
  {
   "cell_type": "markdown",
   "metadata": {},
   "source": [
    "### Check practical significance"
   ]
  },
  {
   "cell_type": "code",
   "execution_count": null,
   "metadata": {},
   "outputs": [],
   "source": [
    "# check here if the difference between treatment and control is practially significant\n",
    "\n",
    "#    1. calculate the confidence interval around the mean\n",
    "\n",
    "#    2. check whether the lift is as high as expected\n"
   ]
  },
  {
   "cell_type": "markdown",
   "metadata": {},
   "source": [
    "### Repeat for a use-case of CTR lift"
   ]
  },
  {
   "cell_type": "markdown",
   "metadata": {},
   "source": [
    "A small e-commerce website is offering a discount for users to register to a premium service. A banner is shown on the landing page, inviting users to register. Low CTR (0.5%) has been recorded historically on 1000 interactions. The website manager believes that by changing the color of the \"call to action\" button from red to blue, one could double the number of people clicking. The manager is skeptical and allows for an A/B that includes at most 1% of the user base. The website sevres roughly 100 users per day.\n",
    "\n",
    "Simulate an A/B test scenario to learn for how long the A/B test should run and to assess whether at the end of it is worth switching color. You can decide by yourself how much the new color is effective in increasing CTR."
   ]
  },
  {
   "cell_type": "code",
   "execution_count": null,
   "metadata": {},
   "outputs": [],
   "source": [
    "from statsmodels.stats.weightstats import ztest as ztest\n",
    "from statsmodels.stats.power import zt_ind_solve_power\n",
    "numpy.random.seed(42)\n",
    "historical_clicks = numpy.random.binomial(1, 0.005, size=1000)"
   ]
  },
  {
   "cell_type": "code",
   "execution_count": null,
   "metadata": {},
   "outputs": [],
   "source": []
  }
 ],
 "metadata": {
  "kernelspec": {
   "display_name": "Python 3",
   "language": "python",
   "name": "python3"
  },
  "language_info": {
   "codemirror_mode": {
    "name": "ipython",
    "version": 3
   },
   "file_extension": ".py",
   "mimetype": "text/x-python",
   "name": "python",
   "nbconvert_exporter": "python",
   "pygments_lexer": "ipython3",
   "version": "3.10.9"
  },
  "toc": {
   "base_numbering": 1,
   "nav_menu": {},
   "number_sections": true,
   "sideBar": true,
   "skip_h1_title": false,
   "title_cell": "Table of Contents",
   "title_sidebar": "Contents",
   "toc_cell": false,
   "toc_position": {},
   "toc_section_display": true,
   "toc_window_display": true
  }
 },
 "nbformat": 4,
 "nbformat_minor": 4
}
