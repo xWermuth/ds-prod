{
 "cells": [
  {
   "cell_type": "code",
   "execution_count": 1,
   "metadata": {},
   "outputs": [],
   "source": [
    "import pandas as pd\n",
    "import re\n",
    "import json\n",
    "import time\n",
    "import requests\n",
    "from requests.auth import HTTPBasicAuth\n",
    "\n",
    "from elasticsearch import Elasticsearch\n",
    "from elasticsearch.helpers import bulk"
   ]
  },
  {
   "cell_type": "code",
   "execution_count": null,
   "metadata": {},
   "outputs": [],
   "source": [
    "USER = 'elastic'\n",
    "PWD = 'Z2_wd+WN6St89_WNpbGE'\n",
    "ES_ENDPOINT = 'http://localhost:9200'"
   ]
  },
  {
   "cell_type": "markdown",
   "metadata": {},
   "source": [
    "### Read data"
   ]
  },
  {
   "cell_type": "code",
   "execution_count": null,
   "metadata": {},
   "outputs": [],
   "source": [
    "df = pd.read_csv('books.csv')\n",
    "df = df.set_index('id')\n",
    "df.head()"
   ]
  },
  {
   "cell_type": "code",
   "execution_count": null,
   "metadata": {},
   "outputs": [],
   "source": [
    "#transform dataframe into json format\n",
    "docs = df.to_dict(orient='records')\n",
    "doc_ids = df.index\n",
    "print(doc_ids[0])\n",
    "print(docs[0])"
   ]
  },
  {
   "cell_type": "code",
   "execution_count": null,
   "metadata": {},
   "outputs": [],
   "source": []
  },
  {
   "cell_type": "markdown",
   "metadata": {},
   "source": [
    "\n",
    "### Elasticsearch Python wrapper"
   ]
  },
  {
   "cell_type": "code",
   "execution_count": null,
   "metadata": {},
   "outputs": [],
   "source": [
    "def create_index(es, index_name, settings=None):\n",
    "    \"\"\"\n",
    "    Create an Elasticsearch index\n",
    "    @param es: an Elasticsearch object\n",
    "    @param index_name: the name of the new index to be created\n",
    "    @param settings: the index settings\n",
    "    @return whether the index was created\n",
    "    \"\"\"\n",
    "    is_created = False\n",
    "    try:\n",
    "        if es.indices.exists(index_name):\n",
    "            es.indices.delete(index=index_name, ignore=[404])\n",
    "        es.indices.create(index=index_name, body=settings)\n",
    "        is_created = True\n",
    "    except Exception as ex:\n",
    "        print(str(ex))\n",
    "    return is_created"
   ]
  },
  {
   "cell_type": "code",
   "execution_count": null,
   "metadata": {},
   "outputs": [],
   "source": [
    "# Index settings\n",
    "settings_basic = {\n",
    "    \"settings\": {\n",
    "        \"number_of_shards\": 4,\n",
    "        \"number_of_replicas\": 2,\n",
    "        \"analysis\": {\n",
    "            \"analyzer\": {\"std_english\": {\"type\": \"standard\", \"stopwords\": \"_english_\" }}\n",
    "        }\n",
    "    }\n",
    "}"
   ]
  },
  {
   "cell_type": "code",
   "execution_count": null,
   "metadata": {},
   "outputs": [],
   "source": [
    "index_name = 'books'\n",
    "#connect to the local elasticsearch node and authenticate\n",
    "es = Elasticsearch([ES_ENDPOINT], http_auth=(USER, PWD))\n",
    "#create an index\n",
    "is_created = create_index(es, index_name, settings=settings_basic)\n",
    "print(f'Index creation: {is_created}')"
   ]
  },
  {
   "cell_type": "code",
   "execution_count": null,
   "metadata": {},
   "outputs": [],
   "source": [
    "#loops over the first 10 documents\n",
    "for i, doc in zip(doc_ids[0:10], docs[0:10]):\n",
    "    #index the documents with corresponding ids\n",
    "    res = es.index(index=index_name, id=i, document=doc)\n",
    "    print(res)\n",
    "# see also the bulk functions for importing under: elasticsearch.helpers"
   ]
  },
  {
   "cell_type": "code",
   "execution_count": null,
   "metadata": {},
   "outputs": [],
   "source": [
    "# get settings info of the selected index\n",
    "es.indices.get_settings(index='books')"
   ]
  },
  {
   "cell_type": "code",
   "execution_count": null,
   "metadata": {},
   "outputs": [],
   "source": [
    "# retrieve a document with a given ID\n",
    "es.get(index='books', id=doc_ids[0])"
   ]
  },
  {
   "cell_type": "code",
   "execution_count": null,
   "metadata": {},
   "outputs": [],
   "source": [
    "# delete the index\n",
    "es.indices.delete(index='books', ignore=404)"
   ]
  },
  {
   "cell_type": "markdown",
   "metadata": {},
   "source": [
    "### Elasticsearch with python cURL (Requests)"
   ]
  },
  {
   "cell_type": "code",
   "execution_count": null,
   "metadata": {},
   "outputs": [],
   "source": [
    "class Elastic:\n",
    "    \"\"\"\n",
    "    A convenience object to send HTTP requests to Elasticsearch\n",
    "    \"\"\"\n",
    "    def __init__(self, endpoint, username, password):\n",
    "        \"\"\"\n",
    "        @param endpoint: the URL of the Elasticsearch instance\n",
    "        @param username: the Elasticsearch username \n",
    "        @param password: the Elasticsearch password\n",
    "        \"\"\"\n",
    "        self.header = {'Content-Type': 'application/json', 'charset':'UTF-8'}\n",
    "        #self.header={'Content-Type': '--data-binary application/x-ndjson'}\n",
    "        self.endpoint = endpoint\n",
    "        self.username = username\n",
    "        self.password = password\n",
    "        self.methods_mapping = {'get': requests.get, \n",
    "                                'put':requests.put, \n",
    "                                'post':requests.post, \n",
    "                                'delete':requests.delete}\n",
    "        \n",
    "    def curl(self, method, handle, json=None):\n",
    "        \"\"\"\n",
    "        Sends an HTTP request to the Elasticsearch instanc\n",
    "        @param method: can be 'get', 'put', 'post', 'delete'\n",
    "        @param handle: the API handle to be appended to the Elasticsearch url\n",
    "        @param json: the json payload of the HTTP request\n",
    "        \"\"\"\n",
    "        http_method = self.methods_mapping[method.lower()]\n",
    "        r = http_method(f'{self.endpoint}/{handle}', auth=HTTPBasicAuth(USER, PWD), \n",
    "                        headers=self.header, json=json)\n",
    "        return r"
   ]
  },
  {
   "cell_type": "code",
   "execution_count": null,
   "metadata": {},
   "outputs": [],
   "source": [
    "e = Elastic(ES_ENDPOINT, USER, PWD)"
   ]
  },
  {
   "cell_type": "code",
   "execution_count": null,
   "metadata": {},
   "outputs": [],
   "source": [
    "create_index_json={\"settings\": {\n",
    "    \"number_of_shards\": 4, \n",
    "    \"number_of_replicas\": 2, \n",
    "    \"index.max_result_window\": 20000,\n",
    "    \"index\" : {\n",
    "        \"similarity\" : {\n",
    "          \"default\" : {\n",
    "            \"type\" : \"BM25\", \"b\": 0.5, \"k1\": 0\n",
    "          }\n",
    "        }\n",
    "    },\n",
    "    \"analysis\": {\n",
    "      \"analyzer\": {\n",
    "        \"std_english\": {\"type\": \"standard\", \"stopwords\": \"_english_\" }\n",
    "      }\n",
    "    }\n",
    "  }\n",
    "}\n",
    "\n",
    "# create an index\n",
    "r = e.curl('put', 'books', json=create_index_json)\n",
    "r.json()"
   ]
  },
  {
   "cell_type": "code",
   "execution_count": null,
   "metadata": {},
   "outputs": [],
   "source": [
    "# get the index details and settings\n",
    "r = e.curl('get', 'books')\n",
    "r.json()"
   ]
  },
  {
   "cell_type": "code",
   "execution_count": null,
   "metadata": {},
   "outputs": [],
   "source": [
    "r = e.curl('put', 'books/_settings', {'index' : {'refresh_interval' : -1}})\n",
    "r.json()"
   ]
  },
  {
   "cell_type": "code",
   "execution_count": null,
   "metadata": {},
   "outputs": [],
   "source": [
    "# index documents with their individual ids (use bulk for speedup)\n",
    "for doc_id, doc in list(zip(doc_ids, docs))[0:100]:\n",
    "    r = e.curl('post', f'books/_doc/{doc_id}', json=doc)\n",
    "r.json()"
   ]
  },
  {
   "cell_type": "code",
   "execution_count": null,
   "metadata": {},
   "outputs": [],
   "source": [
    "r = e.curl('get', f'books/_doc/{doc_ids[0]}')\n",
    "r.json()"
   ]
  },
  {
   "cell_type": "code",
   "execution_count": null,
   "metadata": {},
   "outputs": [],
   "source": [
    "#delete the index\n",
    "r = e.curl('delete', 'books')\n",
    "r.json()"
   ]
  },
  {
   "cell_type": "code",
   "execution_count": null,
   "metadata": {},
   "outputs": [],
   "source": []
  }
 ],
 "metadata": {
  "kernelspec": {
   "display_name": "Python 3",
   "language": "python",
   "name": "python3"
  },
  "language_info": {
   "codemirror_mode": {
    "name": "ipython",
    "version": 3
   },
   "file_extension": ".py",
   "mimetype": "text/x-python",
   "name": "python",
   "nbconvert_exporter": "python",
   "pygments_lexer": "ipython3",
   "version": "3.8.5"
  },
  "toc": {
   "base_numbering": 1,
   "nav_menu": {},
   "number_sections": true,
   "sideBar": true,
   "skip_h1_title": false,
   "title_cell": "Table of Contents",
   "title_sidebar": "Contents",
   "toc_cell": false,
   "toc_position": {},
   "toc_section_display": true,
   "toc_window_display": true
  }
 },
 "nbformat": 4,
 "nbformat_minor": 4
}
